{
 "cells": [
  {
   "cell_type": "markdown",
   "metadata": {},
   "source": [
    "Auto Lease by James Mark Chan"
   ]
  },
  {
   "cell_type": "markdown",
   "metadata": {},
   "source": [
    "Prepare imports and launch the auto lease program."
   ]
  },
  {
   "cell_type": "code",
   "execution_count": 1,
   "metadata": {},
   "outputs": [
    {
     "name": "stdout",
     "output_type": "stream",
     "text": [
      "Launching Auto Lease\n",
      "Processing command:  new-user\n",
      "Unknown command: new-user\n",
      "Processing command:  new-customer\n",
      "Active customer is:  1 James M Chan jamesmarkchan@gmail.com 2134227013\n",
      "Processing command:  rental\n",
      "Active customer is:  1 James M Chan jamesmarkchan@gmail.com 2134227013\n",
      "select car id to rent:\n",
      "Available vehicles are:\n",
      "1 2020 Toyota Corolla (blue) x1\n",
      "2 2021 Ford Mustang (green) x1\n",
      "3 2019 Honda Civic (red) x1\n",
      "4 2016 Chevy Volt (gray) x1\n",
      "Processing command:  rentals\n",
      "All rentals:\n",
      "rid=1 rmode=day qty=1 start=2024-01-04 17:02:50.172102 end=None period=None total=None\n",
      "Car: 2 2021 Ford Mustang (green)\n",
      "Customer: 1 James M Chan jamesmarkchan@gmail.com 2134227013\n",
      "\n",
      "Processing command:  return\n",
      "Found customer:  1 James M Chan jamesmarkchan@gmail.com 2134227013\n",
      "Active customer is:  1 James M Chan jamesmarkchan@gmail.com 2134227013\n",
      "Active customer rentals:\n",
      "rid=1 rmode=day qty=1 start=2024-01-04 17:02:50.172102 end=None period=None total=None\n",
      "Rental returned: rid=1 rmode=day qty=1 start=2024-01-04 17:02:50.172102 end=2024-01-04 17:03:51.803615 period=0:01:01.631513 total=0.0\n",
      "Car: 2 2021 Ford Mustang (green)\n",
      "Total cost: $0.00\n",
      "Processing command:  rentals\n",
      "All rentals:\n",
      "rid=1 rmode=day qty=1 start=2024-01-04 17:02:50.172102 end=2024-01-04 17:03:51.803615 period=0:01:01.631513 total=0.0\n",
      "Car: 2 2021 Ford Mustang (green)\n",
      "Customer: 1 James M Chan jamesmarkchan@gmail.com 2134227013\n",
      "\n",
      "Thank you for using the Auto Lease system\n",
      "Exiting Auto Lease\n"
     ]
    }
   ],
   "source": [
    "from car import Car\n",
    "from customer import Customer\n",
    "from rental import Rental\n",
    "import datetime as dt\n",
    "from autolease import AutoLease\n",
    "\n",
    "def main():\n",
    "    app = AutoLease()\n",
    "    app.run()\n",
    "\n",
    "if __name__ == \"__main__\":\n",
    "    main()"
   ]
  },
  {
   "cell_type": "markdown",
   "metadata": {},
   "source": []
  }
 ],
 "metadata": {
  "kernelspec": {
   "display_name": "Python 3",
   "language": "python",
   "name": "python3"
  },
  "language_info": {
   "codemirror_mode": {
    "name": "ipython",
    "version": 3
   },
   "file_extension": ".py",
   "mimetype": "text/x-python",
   "name": "python",
   "nbconvert_exporter": "python",
   "pygments_lexer": "ipython3",
   "version": "3.12.0"
  }
 },
 "nbformat": 4,
 "nbformat_minor": 2
}
